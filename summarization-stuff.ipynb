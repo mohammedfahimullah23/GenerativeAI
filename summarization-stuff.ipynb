{
 "cells": [
  {
   "cell_type": "markdown",
   "metadata": {},
   "source": [
    "Summarization \n",
    "Two ways to summarize or otherwise combine documents.\n",
    "\n",
    "Stuff, which simply concatenates documents into a prompt;\n",
    "Map-reduce, for larger sets of documents. This splits documents into batches, summarizes those, and then summarizes the summaries"
   ]
  },
  {
   "cell_type": "code",
   "execution_count": 1,
   "metadata": {},
   "outputs": [],
   "source": [
    "import os\n",
    "from dotenv import load_dotenv\n",
    "load_dotenv()\n",
    "\n",
    "groq_api_key = os.getenv(\"GROQ_API_KEY\")"
   ]
  },
  {
   "cell_type": "code",
   "execution_count": 2,
   "metadata": {},
   "outputs": [],
   "source": [
    "from langchain_groq import ChatGroq\n",
    "llm = ChatGroq(model=\"llama3-8b-8192\",groq_api_key=groq_api_key)"
   ]
  },
  {
   "cell_type": "code",
   "execution_count": 3,
   "metadata": {},
   "outputs": [
    {
     "ename": "NameError",
     "evalue": "name 'YoutubeLoader' is not defined",
     "output_type": "error",
     "traceback": [
      "\u001b[1;31m---------------------------------------------------------------------------\u001b[0m",
      "\u001b[1;31mNameError\u001b[0m                                 Traceback (most recent call last)",
      "Cell \u001b[1;32mIn[6], line 4\u001b[0m\n\u001b[0;32m      1\u001b[0m \u001b[38;5;28;01mfrom\u001b[39;00m \u001b[38;5;21;01mlangchain_community\u001b[39;00m\u001b[38;5;21;01m.\u001b[39;00m\u001b[38;5;21;01mdocument_loaders\u001b[39;00m \u001b[38;5;28;01mimport\u001b[39;00m WebBaseLoader\n\u001b[0;32m      3\u001b[0m \u001b[38;5;66;03m# loader = WebBaseLoader(\"https://mohammedfahimullah.medium.com/automate-your-angular-unit-testing-with-earlyai-e78e77f3fcbc\")\u001b[39;00m\n\u001b[1;32m----> 4\u001b[0m loader\u001b[38;5;241m=\u001b[39m\u001b[43mYoutubeLoader\u001b[49m\u001b[38;5;241m.\u001b[39mfrom_youtube_url(generic_url,add_video_info\u001b[38;5;241m=\u001b[39m\u001b[38;5;28;01mTrue\u001b[39;00m)\n\u001b[0;32m      5\u001b[0m docs \u001b[38;5;241m=\u001b[39m loader\u001b[38;5;241m.\u001b[39mload()\n\u001b[0;32m      6\u001b[0m \u001b[38;5;28mprint\u001b[39m(\u001b[38;5;28mlen\u001b[39m(docs))\n",
      "\u001b[1;31mNameError\u001b[0m: name 'YoutubeLoader' is not defined"
     ]
    }
   ],
   "source": [
    "from langchain_community.document_loaders import WebBaseLoader\n",
    "\n",
    "loader = WebBaseLoader(\"https://mohammedfahimullah.medium.com/automate-your-angular-unit-testing-with-earlyai-e78e77f3fcbc\")\n",
    "docs = loader.load()\n",
    "print(len(docs))"
   ]
  },
  {
   "cell_type": "code",
   "execution_count": 4,
   "metadata": {},
   "outputs": [
    {
     "name": "stdout",
     "output_type": "stream",
     "text": [
      "Document 1 (Trimmed): Generate your Angular Unit Testing with EarlyAI | by Mohammedfahimullah | Dec, 2024 | MediumOpen in appSign upSign inWriteSign upSign inGenerate your Angular Unit Testing with EarlyAIStreamline Unit T...\n",
      "\n"
     ]
    }
   ],
   "source": [
    "from langchain.schema import Document\n",
    "\n",
    "def trim_page_content(doc: Document, max_words: int) -> Document:\n",
    "    words = doc.page_content.split() \n",
    "    trimmed_content = ' '.join(words[:max_words]) \n",
    "    return Document(page_content=trimmed_content, metadata=doc.metadata)\n",
    "\n",
    "MAX_WORDS = 2000\n",
    "\n",
    "trimmed_docs = [trim_page_content(doc, MAX_WORDS) for doc in docs]\n",
    "\n",
    "for i, doc in enumerate(trimmed_docs):\n",
    "    print(f\"Document {i + 1} (Trimmed): {doc.page_content[:200]}...\\n\") \n"
   ]
  },
  {
   "cell_type": "markdown",
   "metadata": {},
   "source": [
    "I tried \"stuff\" to summarize a big document using groq llama model but the issue is the context size is less\n",
    "so we cant use this. We have context models whose size is 128k tokens eg gpt-4o we can use these models\n",
    "If you use models which have less content window you get issue \n",
    "\"Please reduce the length of the messages or completion.\"\n",
    "\n"
   ]
  },
  {
   "cell_type": "code",
   "execution_count": 5,
   "metadata": {},
   "outputs": [
    {
     "name": "stdout",
     "output_type": "stream",
     "text": [
      "Here is a concise summary of the article:\n",
      "\n",
      "The author, Mohammedfahimullah, shares his experience with EarlyAI, a tool that uses AI to generate unit test cases for Angular projects. He finds the tool to be incredibly time-saving and simplifies the tedious task of writing unit tests. The tool generates test files for each method in the Angular component, covering happy paths and edge cases comprehensively. The author uses Jest as his testing framework, but EarlyAI also supports Mocha, Vitest, Pytest, and others. He notes that the tool provides documentation for the function and suggests potential code improvements. Overall, the author recommends giving EarlyAI a try and experiencing how it simplifies unit testing.\n"
     ]
    }
   ],
   "source": [
    "from langchain.chains.combine_documents import create_stuff_documents_chain\n",
    "from langchain_core.prompts import ChatPromptTemplate\n",
    "\n",
    "prompt = ChatPromptTemplate.from_messages(\n",
    "    [(\"system\", \"Write a concise summary of the following:\\\\n\\\\n{context}\")]\n",
    ")\n",
    "# As discussed I am using stuff way of summarization.This is not a best practice\n",
    "chain = create_stuff_documents_chain(llm, prompt)\n",
    "\n",
    "result = chain.invoke({\"context\": trimmed_docs})\n",
    "print(result)"
   ]
  },
  {
   "cell_type": "code",
   "execution_count": null,
   "metadata": {},
   "outputs": [],
   "source": []
  }
 ],
 "metadata": {
  "kernelspec": {
   "display_name": "generative-ai",
   "language": "python",
   "name": "python3"
  },
  "language_info": {
   "codemirror_mode": {
    "name": "ipython",
    "version": 3
   },
   "file_extension": ".py",
   "mimetype": "text/x-python",
   "name": "python",
   "nbconvert_exporter": "python",
   "pygments_lexer": "ipython3",
   "version": "3.12.8"
  }
 },
 "nbformat": 4,
 "nbformat_minor": 2
}
